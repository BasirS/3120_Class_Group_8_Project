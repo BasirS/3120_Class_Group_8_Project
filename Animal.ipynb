{
 "cells": [
  {
   "cell_type": "code",
   "execution_count": null,
   "metadata": {},
   "outputs": [
    {
     "ename": "",
     "evalue": "",
     "output_type": "error",
     "traceback": [
      "\u001b[1;31mRunning cells with '.conda (Python 3.12.7)' requires the ipykernel package.\n",
      "\u001b[1;31mRun the following command to install 'ipykernel' into the Python environment. \n",
      "\u001b[1;31mCommand: 'conda install -n .conda ipykernel --update-deps --force-reinstall'"
     ]
    }
   ],
   "source": [
    "%pip install ipykernel --upgrade --force-reinstall\n",
    "\n",
    "from Animal import Animal"
   ]
  },
  {
   "cell_type": "code",
   "execution_count": null,
   "metadata": {},
   "outputs": [],
   "source": [
    "# This is child class #1\n",
    "from Animal import Animal\n",
    "\n",
    "class Dog(Animal):\n",
    "    def __init__(self, name):\n",
    "        super().__init__(name, \"Dog\")\n",
    "        self.favorite_toy = \"Bone\"\n",
    "\n",
    "    def make_sound(self, sound = \"Woof\"):\n",
    "        return sound\n",
    "    \n",
    "    def play(self):\n",
    "        print(f\"{self.name} is playing with {self.favorite_toy}.\")\n",
    "\n",
    "# main function\n",
    "if __name__ == \"__main__\":\n",
    "    d = Dog(\"Rex\")\n",
    "    print(d.make_sound())\n",
    "    print(d.describe())\n",
    "    print(d.eat(\"Dog food\"))\n",
    "    print(d.play())\n",
    "    print(d.sleep())"
   ]
  },
  {
   "cell_type": "code",
   "execution_count": null,
   "metadata": {},
   "outputs": [],
   "source": [
    "# This is child class #2\n",
    "from Animal import Animal\n",
    "\n",
    "class Cat(Animal):\n",
    "    def __init__(self, name, species = \"Cat\"):\n",
    "        super().__init__(name, species)\n",
    "        self.favorite_toy = \"Feather\"\n",
    "\n",
    "    def make_sound(self):\n",
    "        return \"Meow!\"\n",
    "\n",
    "    def nap(self):\n",
    "        print(f\"{self.name} is now napping after playing with {self.favorite_toy}.\") \n",
    "\n",
    "# main function\n",
    "if __name__ == \"__main__\":\n",
    "    c = Cat(\"Whiskers\")\n",
    "    print(c.make_sound())\n",
    "    print(c.describe())\n",
    "    print(c.eat(\"Cat food\"))\n",
    "    print(c.play())\n",
    "    print(c.nap())"
   ]
  },
  {
   "cell_type": "code",
   "execution_count": null,
   "metadata": {},
   "outputs": [],
   "source": [
    "# This is child class #3\n",
    "\n",
    "from Animal import Animal\n",
    "\n",
    "class Squirrel(Animal):\n",
    "    def __init__(self, name):\n",
    "        super().__init__(name, \"Squirrel\")    \n",
    "    def climb(self):\n",
    "        return(f\"{self.name} is climbing the {climb_object}.\")\n",
    "    def make_sound(self, sound = \"squeeksqueek\"):\n",
    "        return sound\n",
    "\n",
    "s = Squirrel(\"Mr.Nut\")\n",
    "climb_object = 'tree'\n",
    "print(s.make_sound())\n",
    "print(s.describe())\n",
    "print(s.eat(\"nuts\"))\n",
    "print(s.sleep())\n",
    "print(s.climb())"
   ]
  },
  {
   "cell_type": "code",
   "execution_count": null,
   "metadata": {},
   "outputs": [],
   "source": [
    "# This is child class #4\n",
    "\n",
    "from Animal import Animal\n",
    "\n",
    "class Tiger(Animal):\n",
    "    def __init__(self, name, species=\"Tiger\", stripe_pattern=\"striped\"):\n",
    "        # Call the parent class constructor\n",
    "        super().__init__(name, species)\n",
    "        self.stripe_pattern = stripe_pattern  # Attribute for tiger's stripe pattern\n",
    "\n",
    "    def make_sound(self, sound=\"roar\"):\n",
    "        return f\"{self.name}, the {self.species}, lets out a mighty {sound}!\"\n",
    "\n",
    "    def hunt(self):\n",
    "        return f\"{self.name} is silently stalking its prey in the jungle.\"\n",
    "\n",
    "    def pounce(self):\n",
    "        return f\"{self.name} leaps swiftly and powerfully!\"\n",
    "\n",
    "    def sleep(self):\n",
    "        return f\"{self.name} is resting after a long hunt in the jungle.\"\n",
    "\n",
    "\n",
    "if __name__ == \"__main__\":\n",
    "    my_tiger = Tiger(\"Shere Khan\")\n",
    "    print(my_tiger.describe())\n",
    "    print(my_tiger.make_sound())\n",
    "    print(my_tiger.sleep())\n",
    "    print(my_tiger.hunt())\n",
    "    print(my_tiger.pounce())"
   ]
  },
  {
   "cell_type": "code",
   "execution_count": null,
   "metadata": {},
   "outputs": [],
   "source": [
    "# This is child class #5\n",
    "\n",
    "def Elephant(Animal):\n",
    "\tdef __init__(self,name,species=\"Elephant\"):\n",
    "\t\tsuper().__init__(name,species)\n",
    "\t\tself.biggest_fear=\"Mouse\"\n",
    "\n",
    "\tdef make_sound(self):\n",
    "\t\treturn \"*insert elephant honk here*\"\n",
    "\n",
    "\tdef stomp(self):\n",
    "\t\treturn \"{self.name} panickedly stomps their feet, narrowly missing crushing your poor pitiable human form.\"\n",
    "\n",
    "# main\n",
    "\n",
    "if __name__== \"__main__\":\n",
    "\te1=Elephant(\"Jumbo\")\n",
    "\tprint(e1.describe())\n",
    "\tprint(e1.make_sound())\n",
    "\tprint(e1.stomp())"
   ]
  }
 ],
 "metadata": {
  "kernelspec": {
   "display_name": ".conda",
   "language": "python",
   "name": "python3"
  },
  "language_info": {
   "name": "python",
   "version": "3.12.7"
  }
 },
 "nbformat": 4,
 "nbformat_minor": 2
}
