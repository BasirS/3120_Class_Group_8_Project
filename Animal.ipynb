{
 "cells": [
  {
   "cell_type": "code",
   "execution_count": null,
   "metadata": {},
   "outputs": [],
   "source": [
    "from Animal import Animal"
   ]
  },
  {
   "cell_type": "code",
   "execution_count": null,
   "metadata": {},
   "outputs": [],
   "source": [
    "# This is child class #1\n",
    "from Animal import Animal\n",
    "\n",
    "class Dog(Animal):\n",
    "    def __init__(self, name):\n",
    "        super().__init__(name, \"Dog\")\n",
    "        self.favorite_toy = \"Bone\"\n",
    "\n",
    "    def make_sound(self, sound = \"Woof\"):\n",
    "        return sound\n",
    "    \n",
    "    def play(self):\n",
    "        print(f\"{self.name} is playing with {self.favorite_toy}.\")\n",
    "\n",
    "# main function\n",
    "if __name__ == \"__main__\":\n",
    "    d = Dog(\"Rex\")\n",
    "    print(d.make_sound())\n",
    "    print(d.describe())\n",
    "    print(d.eat(\"Dog food\"))\n",
    "    print(d.play())\n",
    "    print(d.sleep())"
   ]
  },
  {
   "cell_type": "code",
   "execution_count": null,
   "metadata": {},
   "outputs": [],
   "source": [
    "# This is child class #2\n",
    "from Animal import Animal\n",
    "\n",
    "class Cat(Animal):\n",
    "    def __init__(self, name, species = \"Cat\"):\n",
    "        super().__init__(name, species)\n",
    "        self.favorite_toy = \"Feather\"\n",
    "\n",
    "    def make_sound(self):\n",
    "        return \"Meow!\"\n",
    "\n",
    "    def nap(self):\n",
    "        print(f\"{self.name} is now napping after playing with {self.favorite_toy}.\") \n",
    "\n",
    "# main function\n",
    "if __name__ == \"__main__\":\n",
    "    c = Cat(\"Whiskers\")\n",
    "    print(c.make_sound())\n",
    "    print(c.describe())\n",
    "    print(c.eat(\"Cat food\"))\n",
    "    print(c.play())\n",
    "    print(c.nap())"
   ]
  }
 ],
 "metadata": {
  "kernelspec": {
   "display_name": ".conda",
   "language": "python",
   "name": "python3"
  },
  "language_info": {
   "name": "python",
   "version": "3.12.7"
  }
 },
 "nbformat": 4,
 "nbformat_minor": 2
}
